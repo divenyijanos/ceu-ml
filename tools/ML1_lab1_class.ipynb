{
 "cells": [
  {
   "cell_type": "markdown",
   "id": "b49917a3",
   "metadata": {},
   "source": [
    "## Predict the demand for bike share using known tools\n",
    "\n",
    "Our goal is to predict demand for bike share based on [this](https://www.kaggle.com/c/bike-sharing-demand) Kaggle task.\n",
    "Kaggle provides two data sets: a labelled train data and an unlabelled test data.\n",
    "We have to use the train data to predict labels for the test data.\n",
    "Kaggle won't give us the labels just a score we achieved on the test set.\n",
    "\n",
    "### Know your data"
   ]
  },
  {
   "cell_type": "code",
   "execution_count": null,
   "id": "5b5892e1",
   "metadata": {},
   "outputs": [],
   "source": [
    "import pandas as pd\n",
    "import numpy as np\n",
    "\n",
    "bike_data = pd.read_csv(\"https://raw.githubusercontent.com/divenyijanos/ceu-ml/2023/data/bike_sharing_demand/bike_sample.csv\")"
   ]
  },
  {
   "cell_type": "code",
   "execution_count": null,
   "id": "be303e14",
   "metadata": {},
   "outputs": [],
   "source": [
    "bike_data.head()"
   ]
  },
  {
   "cell_type": "code",
   "execution_count": null,
   "id": "0b18f09b",
   "metadata": {
    "scrolled": true
   },
   "outputs": [],
   "source": [
    "bike_data.describe()"
   ]
  },
  {
   "cell_type": "code",
   "execution_count": null,
   "id": "a4733741",
   "metadata": {},
   "outputs": [],
   "source": [
    "bike_data.shape"
   ]
  },
  {
   "cell_type": "code",
   "execution_count": null,
   "id": "fc153612",
   "metadata": {},
   "outputs": [],
   "source": [
    "bike_data.isnull().sum()"
   ]
  },
  {
   "cell_type": "code",
   "execution_count": null,
   "id": "ffa2d1c2",
   "metadata": {},
   "outputs": [],
   "source": [
    "import matplotlib.pyplot as plt\n",
    "bike_data[\"datetime\"] = pd.to_datetime(bike_data[\"datetime\"])\n",
    "bike_2011 = bike_data[bike_data[\"datetime\"].dt.year == 2011]\n",
    "daily_counts = bike_2011.groupby(bike_2011[\"datetime\"].dt.date)[\"count\"].sum()\n",
    "dates = daily_counts.index\n",
    "counts = daily_counts.values\n",
    "\n",
    "plt.bar(dates, counts, color=\"crimson\")\n",
    "plt.xlabel(\"Date\")\n",
    "plt.ylabel(\"Rental Count\")\n",
    "plt.title(\"Daily Rentals for 2011\")\n",
    "plt.xticks(rotation=45)\n",
    "plt.show()"
   ]
  },
  {
   "cell_type": "markdown",
   "id": "d9b02fd8-2493-4b26-bffe-0f834502868f",
   "metadata": {},
   "source": [
    "### Train-test split"
   ]
  },
  {
   "cell_type": "code",
   "execution_count": null,
   "id": "66a3649f",
   "metadata": {},
   "outputs": [],
   "source": [
    "# train-validation split on numeric features\n",
    "from sklearn.model_selection import train_test_split\n",
    "\n",
    "# keep numeric features\n",
    "features = bike_data.drop(columns=[\"count\"]).select_dtypes(include=np.number)\n",
    "label = bike_data[\"count\"]\n",
    "np.random.seed(20240306)\n",
    "X_train, X_test, y_train, y_test = train_test_split(features, label, test_size=0.2)"
   ]
  },
  {
   "cell_type": "markdown",
   "id": "e9bbba96-76db-4b61-bc6f-9a86f98c837a",
   "metadata": {},
   "source": [
    "### Technical detour: best practice for pseudo random number generation and ensuring reproducibility\n",
    "\n",
    "We used to ensure reproducibility by setting the global seed with `np.random.seed()`.\n",
    "\n",
    "This is a risky practice as it modifies the global state. Some imported packages and functions may be unintentionally affected.\n",
    "\n",
    "The recommended practice instead is to create a new (psuedo) random number generator and pass it around.\n",
    "Call `np.random.RandomState(<seed>)` to create a new RNG.\n",
    "(For numpy 1.17+, there is a statistically better alternative: `np.random.default_rng(<seed>)`. However, not all packages are already updated to accept that class as a random state.)\n",
    "\n",
    "See more details [here](https://scikit-learn.org/stable/common_pitfalls.html#controlling-randomness)."
   ]
  },
  {
   "cell_type": "code",
   "execution_count": null,
   "id": "ff2dde0e-d37a-4ba9-8247-491de5716091",
   "metadata": {},
   "outputs": [],
   "source": [
    "prng = np.random.RandomState(20240306)\n",
    "X_train, X_test, y_train, y_test = train_test_split(features, label, test_size=0.2, random_state=prng)"
   ]
  },
  {
   "cell_type": "markdown",
   "id": "edbbe142-4fba-4c95-a278-38b10b3dcfa6",
   "metadata": {},
   "source": [
    "### Evaluation function"
   ]
  },
  {
   "cell_type": "code",
   "execution_count": null,
   "id": "d02a113a",
   "metadata": {},
   "outputs": [],
   "source": [
    "# define loss function\n",
    "def calculateRMSLE(prediction, y_obs):\n",
    "    # TODO"
   ]
  },
  {
   "cell_type": "markdown",
   "id": "264c6f0d-ffdc-4549-af40-136f3e5a2c76",
   "metadata": {},
   "source": [
    "### Benchmark"
   ]
  },
  {
   "cell_type": "code",
   "execution_count": null,
   "id": "c1cd3b48",
   "metadata": {},
   "outputs": [],
   "source": [
    "# estimate benchmark model\n",
    "benchmark = # TODO\n",
    "benchmark_result = [\"Benchmark\", calculateRMSLE(benchmark, y_train), calculateRMSLE(benchmark, y_train)]"
   ]
  },
  {
   "cell_type": "code",
   "execution_count": null,
   "id": "d84cb8d2",
   "metadata": {},
   "outputs": [],
   "source": [
    "# collect results into a DataFrame\n",
    "result_columns = [\"Model\", \"Train\", \"Test\"]\n",
    "pd.DataFrame([benchmark_result], columns=result_columns)"
   ]
  },
  {
   "cell_type": "markdown",
   "id": "806c2afc-4cf8-461d-8c6c-00acce0c3256",
   "metadata": {},
   "source": [
    "### Model #1: Group averages"
   ]
  },
  {
   "cell_type": "code",
   "execution_count": null,
   "id": "09f2d1ea",
   "metadata": {},
   "outputs": [],
   "source": [
    "# model #1: group averages by season, holiday and workingday\n",
    "from sklearn.linear_model import LinearRegression\n",
    "\n",
    "features1 = [\"season\", \"holiday\", \"workingday\"]\n",
    "feature_matrix1 = pd.get_dummies(X_train[features1], columns=features1, drop_first=True)\n",
    "feature_matrix1"
   ]
  },
  {
   "cell_type": "code",
   "execution_count": null,
   "id": "1abd3a6f",
   "metadata": {},
   "outputs": [],
   "source": [
    "# evaluate model #1\n",
    "def calculateRMSLE(prediction, observation):\n",
    "    return np.mean((prediction - observation)**2)\n",
    "\n",
    "group_avg = LinearRegression().fit(feature_matrix1, y_train)\n",
    "train_error = calculateRMSLE(group_avg.predict(feature_matrix1), y_train)\n",
    "\n",
    "# for test error we need to apply the same encoding on the test set\n",
    "test_error = calculateRMSLE(group_avg.predict(pd.get_dummies(X_test[features1], columns=features1, drop_first=True)), y_test)\n",
    "group_avg_result = [\"Group-avg\", train_error, test_error]\n",
    "group_avg_result"
   ]
  },
  {
   "cell_type": "code",
   "execution_count": null,
   "id": "2e9b5313",
   "metadata": {},
   "outputs": [],
   "source": [
    "pd.DataFrame([benchmark_result, group_avg_result], columns=result_columns)"
   ]
  },
  {
   "cell_type": "markdown",
   "id": "9e4bafc8-1579-42e2-a1d9-b548fd8591e2",
   "metadata": {},
   "source": [
    "### Technical detour: Using Pipelines from scikit-learn"
   ]
  },
  {
   "cell_type": "code",
   "execution_count": null,
   "id": "5a14c2bd-31ac-4843-a77f-58c4581faab9",
   "metadata": {},
   "outputs": [],
   "source": [
    "from sklearn.pipeline import Pipeline\n",
    "from sklearn.preprocessing import OneHotEncoder\n",
    "from sklearn.compose import ColumnTransformer\n",
    "\n",
    "one_hot_encoder = OneHotEncoder(sparse_output=False, drop=\"first\")\n",
    "steps = [\n",
    "    (\"dummify_selected_columns\", ColumnTransformer([(\"dummify\", one_hot_encoder, features1)])),\n",
    "    (\"ols\", LinearRegression())\n",
    "]\n",
    "pipe_group_avg = Pipeline(steps)\n",
    "pipe_group_avg"
   ]
  },
  {
   "cell_type": "code",
   "execution_count": null,
   "id": "421dff82-2215-4501-b93b-a2e7d7604a2f",
   "metadata": {},
   "outputs": [],
   "source": [
    "pipe_group_avg.fit(X_train, y_train)"
   ]
  },
  {
   "cell_type": "code",
   "execution_count": null,
   "id": "e38f77a8-85f0-472b-8df4-0fc0dd6a828b",
   "metadata": {},
   "outputs": [],
   "source": [
    "pd.DataFrame({\n",
    "    \"feature\": pipe_group_avg[\"dummify_selected_columns\"].get_feature_names_out(),\n",
    "    \"coefficient\": pipe_group_avg[\"ols\"].coef_\n",
    "})"
   ]
  },
  {
   "cell_type": "code",
   "execution_count": null,
   "id": "9c5ab2d2-ee35-4a20-abde-45520dd6c557",
   "metadata": {},
   "outputs": [],
   "source": [
    "# Double-check we got the same result\n",
    "[\n",
    "    calculateRMSLE(pipe_group_avg.predict(X_train), y_train),\n",
    "    calculateRMSLE(pipe_group_avg.predict(X_test), y_test)\n",
    "]"
   ]
  },
  {
   "cell_type": "markdown",
   "id": "5ddb673e-cf28-46b6-9570-c531a9f5e1ee",
   "metadata": {},
   "source": [
    "### Model #2: Group averages with weather"
   ]
  },
  {
   "cell_type": "code",
   "execution_count": null,
   "id": "b6928067",
   "metadata": {},
   "outputs": [],
   "source": [
    "# Model #2: Group averages with weather\n",
    "dummy_features = ['season', 'holiday', 'workingday', 'weather']\n",
    "numeric_features = ['temp', 'atemp', 'humidity', 'windspeed']\n",
    "\n",
    "steps = [\n",
    "    (\"dummify_selected_columns\", ColumnTransformer([\n",
    "        (\"dummify\", one_hot_encoder, dummy_features),\n",
    "        (\"keep\", \"passthrough\", numeric_features)\n",
    "    ])),\n",
    "    (\"ols\", LinearRegression())\n",
    "]"
   ]
  },
  {
   "cell_type": "code",
   "execution_count": null,
   "id": "f3a440fb-dd26-4a2b-a507-d12a29e1a490",
   "metadata": {},
   "outputs": [],
   "source": [
    "# TODO: build a pipeline from the steps, fit the model, and evaluate"
   ]
  },
  {
   "cell_type": "markdown",
   "id": "9d0491c4-3dc6-49cd-a445-d6012dcf865e",
   "metadata": {},
   "source": [
    "### Model #3: Very flexible linear with polynomial features"
   ]
  },
  {
   "cell_type": "code",
   "execution_count": null,
   "id": "9bfc37ce",
   "metadata": {},
   "outputs": [],
   "source": [
    "from sklearn.preprocessing import PolynomialFeatures\n",
    "\n",
    "steps = [\n",
    "    (\"dummify_selected_columns\", ColumnTransformer([\n",
    "        (\"dummify\", one_hot_encoder, dummy_features),\n",
    "        (\"keep\", \"passthrough\", numeric_features)\n",
    "    ])),\n",
    "    (\"4_degree_poly\", PolynomialFeatures(degree=4, include_bias=False)),\n",
    "    (\"ols\", LinearRegression())\n",
    "]\n",
    "pipe_flexible_linear = Pipeline(steps)\n",
    "pipe_flexible_linear"
   ]
  },
  {
   "cell_type": "code",
   "execution_count": null,
   "id": "bb0dcbab-88ee-4e8f-81af-6decf4295bc2",
   "metadata": {},
   "outputs": [],
   "source": [
    "pipe_flexible_linear.fit(X_train, y_train)\n",
    "train_error = calculateRMSLE(pipe_flexible_linear.predict(X_train), y_train)\n",
    "test_error = calculateRMSLE(pipe_flexible_linear.predict(X_test), y_test)\n",
    "\n",
    "flexible_linear_result = ['Flexible linear', train_error, test_error]\n",
    "flexible_linear_result\n",
    "results.loc[len(results)] = flexible_linear_result\n",
    "results"
   ]
  },
  {
   "cell_type": "markdown",
   "id": "194cdb5c-660b-46b6-9278-e06a4ad5c293",
   "metadata": {},
   "source": [
    "### Model #4: Improve with Lasso"
   ]
  },
  {
   "cell_type": "code",
   "execution_count": null,
   "id": "59b6394f",
   "metadata": {},
   "outputs": [],
   "source": [
    "# Model #4: improve with Lasso\n",
    "from sklearn.linear_model import LassoCV\n",
    "from sklearn.preprocessing import MinMaxScaler\n",
    "\n",
    "steps = [\n",
    "    (\"dummify_selected_columns\", ColumnTransformer([\n",
    "        (\"dummify\", one_hot_encoder, dummy_features),\n",
    "        (\"scale\", MinMaxScaler(), numeric_features)\n",
    "    ])),\n",
    "    (\"4_degree_poly\", PolynomialFeatures(degree=4, include_bias=False)),\n",
    "    # TODO: include the estimation step, choose the best penalty parameter via CV\n",
    "]\n",
    "pipe_lasso = Pipeline(steps)\n",
    "\n",
    "pipe_lasso.fit(X_train, y_train)"
   ]
  },
  {
   "cell_type": "code",
   "execution_count": null,
   "id": "9e8359c9-2bc1-4afa-8235-952ed60aa2d5",
   "metadata": {},
   "outputs": [],
   "source": [
    "train_error = calculateRMSLE(pipe_lasso.predict(X_train), y_train)\n",
    "test_error = calculateRMSLE(pipe_lasso.predict(X_test), y_test)\n",
    "\n",
    "lasso_model_result = ['Flexible LASSO', train_error, test_error]\n",
    "results.loc[len(results)] = lasso_model_result\n",
    "results"
   ]
  },
  {
   "cell_type": "markdown",
   "id": "5e1567e8-5f7e-4ae9-b381-8f4c1337b070",
   "metadata": {},
   "source": [
    "### Model #5: Regression tree"
   ]
  },
  {
   "cell_type": "code",
   "execution_count": null,
   "id": "9cf36199",
   "metadata": {},
   "outputs": [],
   "source": [
    "from sklearn import tree\n",
    "\n",
    "steps = [\n",
    "    (\"tree\", tree.DecisionTreeRegressor(max_depth=5))\n",
    "]\n",
    "pipe_tree = Pipeline(steps)\n",
    "pipe_tree"
   ]
  },
  {
   "cell_type": "code",
   "execution_count": null,
   "id": "971a180e-6209-4307-b2fb-66f3d9445c32",
   "metadata": {},
   "outputs": [],
   "source": [
    "pipe_tree.fit(X_train, y_train)\n",
    "\n",
    "train_error = calculateRMSLE(pipe_tree.predict(X_train), y_train)\n",
    "test_error = calculateRMSLE(pipe_tree.predict(X_test), y_test)\n",
    "\n",
    "tree_result = ['Tree', train_error, test_error]\n",
    "results.loc[len(results)] = tree_result\n",
    "results"
   ]
  },
  {
   "cell_type": "code",
   "execution_count": null,
   "id": "26cd8360",
   "metadata": {},
   "outputs": [],
   "source": [
    "plt.figure(figsize=(12,12))\n",
    "tree.plot_tree(pipe_tree[\"tree\"],feature_names=dummy_features + numeric_features)"
   ]
  },
  {
   "cell_type": "markdown",
   "id": "bb080379",
   "metadata": {},
   "source": [
    "## Improve the models\n",
    "\n",
    "### Diagnostics"
   ]
  },
  {
   "cell_type": "code",
   "execution_count": null,
   "id": "671ee3eb",
   "metadata": {},
   "outputs": [],
   "source": [
    "import matplotlib.pyplot as plt\n",
    "\n",
    "linear_predictions = pipe_group_avg_with_weather.predict(X_test)\n",
    "lasso_predictions = pipe_lasso.predict(X_test)\n",
    "tree_predictions = pipe_tree.predict(X_test)\n",
    "\n",
    "plt.scatter(y_test, linear_predictions, label='Linear', alpha=0.5)\n",
    "plt.scatter(y_test, lasso_predictions, label='Lasso', alpha=0.5)\n",
    "plt.scatter(y_test, tree_predictions, label='Tree', alpha=0.5)\n",
    "plt.axline((1, 1), slope=1, linestyle='dashed', color='red')\n",
    "plt.xlabel('Observed')\n",
    "plt.ylabel('Predicted')\n",
    "plt.legend()"
   ]
  },
  {
   "cell_type": "code",
   "execution_count": null,
   "id": "86c6e9ee",
   "metadata": {},
   "outputs": [],
   "source": [
    "bike_data[bike_data['count'] < 10]"
   ]
  },
  {
   "cell_type": "markdown",
   "id": "4f3423e8",
   "metadata": {},
   "source": [
    "### Feature engineering"
   ]
  },
  {
   "cell_type": "code",
   "execution_count": null,
   "id": "51559758",
   "metadata": {},
   "outputs": [],
   "source": [
    "def extract_dt_features(df_with_datetime):\n",
    "    df_with_datetime['datetime'] = pd.to_datetime(df_with_datetime['datetime'], utc=True)\n",
    "    df_with_datetime['year'] = df_with_datetime['datetime'].dt.year\n",
    "    df_with_datetime['day'] = df_with_datetime['datetime'].dt.day\n",
    "    df_with_datetime['month'] = df_with_datetime['datetime'].dt.month\n",
    "    df_with_datetime['hour'] = df_with_datetime['datetime'].dt.hour\n",
    "    df_with_datetime['dayofweek'] = df_with_datetime['datetime'].dt.dayofweek\n",
    "\n",
    "\n",
    "extract_dt_features(bike_data)"
   ]
  },
  {
   "cell_type": "code",
   "execution_count": null,
   "id": "0729e585",
   "metadata": {},
   "outputs": [],
   "source": [
    "feature_matrix = bike_data.drop(columns=[\"count\", \"registered\", \"casual\"]).select_dtypes(include=np.number)\n",
    "label = bike_data[\"count\"]\n",
    "X_train, X_test, y_train, y_test = train_test_split(feature_matrix, label, test_size=0.2, random_state=20240306)"
   ]
  },
  {
   "cell_type": "code",
   "execution_count": null,
   "id": "eb8f44e4",
   "metadata": {},
   "outputs": [],
   "source": [
    "dummy_features = ['season', 'holiday', 'workingday', 'weather', 'year', 'month', 'day', 'hour', 'dayofweek']\n",
    "\n",
    "steps = [\n",
    "    (\"dummify_selected_columns\", ColumnTransformer([\n",
    "        (\"dummify\", one_hot_encoder, dummy_features),\n",
    "        (\"keep\", \"passthrough\", numeric_features)\n",
    "    ])),\n",
    "    (\"ols\", LinearRegression())\n",
    "]\n",
    "pipe_linear = Pipeline(steps)\n",
    "pipe_linear.fit(X_train, y_train)"
   ]
  },
  {
   "cell_type": "code",
   "execution_count": null,
   "id": "b9a38490-445c-4e71-a912-2d8fe48e16f7",
   "metadata": {},
   "outputs": [],
   "source": [
    "train_error = calculateRMSLE(pipe_linear.predict(X_train), y_train)\n",
    "test_error = calculateRMSLE(pipe_linear.predict(X_test), y_test)\n",
    "\n",
    "linear_FE_result = ['Feature engineered linear', train_error, test_error]\n",
    "results.loc[len(results)] = linear_FE_result\n",
    "results"
   ]
  },
  {
   "cell_type": "code",
   "execution_count": null,
   "id": "236e2884",
   "metadata": {},
   "outputs": [],
   "source": [
    "# TODO: LASSO\n"
   ]
  },
  {
   "cell_type": "code",
   "execution_count": null,
   "id": "fa32cb7d",
   "metadata": {},
   "outputs": [],
   "source": [
    "# TODO: Tree\n",
    "tree_fe = tree.DecisionTreeRegressor(max_depth=5).fit(X_train, y_train)\n",
    "\n",
    "train_error = calculateRMSLE(tree_fe.predict(X_train), y_train)\n",
    "test_error = calculateRMSLE(tree_fe.predict(X_test), y_test)\n",
    "\n",
    "tree_fe_result = ['Feature engineered tree', train_error, test_error]\n",
    "results.loc[len(results)] = tree_fe_result\n",
    "results"
   ]
  },
  {
   "cell_type": "markdown",
   "id": "8dc1ebae",
   "metadata": {},
   "source": [
    "### Collect more data"
   ]
  },
  {
   "cell_type": "code",
   "execution_count": null,
   "id": "57cf7626",
   "metadata": {},
   "outputs": [],
   "source": [
    "bike_full = pd.read_csv(\"https://raw.githubusercontent.com/divenyijanos/ceu-ml/2023/data/bike_sharing_demand/train.csv\")\n",
    "bike_full.shape"
   ]
  },
  {
   "cell_type": "code",
   "execution_count": null,
   "id": "075a6257",
   "metadata": {},
   "outputs": [],
   "source": [
    "bike_data.shape"
   ]
  },
  {
   "cell_type": "code",
   "execution_count": null,
   "id": "e9090a46",
   "metadata": {},
   "outputs": [],
   "source": [
    "extract_dt_features(bike_full)"
   ]
  },
  {
   "cell_type": "code",
   "execution_count": null,
   "id": "f6a34bf2",
   "metadata": {},
   "outputs": [],
   "source": [
    "bike_full.shape"
   ]
  },
  {
   "cell_type": "code",
   "execution_count": null,
   "id": "342e5298",
   "metadata": {},
   "outputs": [],
   "source": [
    "# Ensure the test set remains intact\n",
    "full_data_without_original_test = bike_full.loc[~bike_full.datetime.isin(bike_data.filter(X_test.index, axis=0)['datetime'])]\n",
    "full_data_without_original_test.shape"
   ]
  },
  {
   "cell_type": "code",
   "execution_count": null,
   "id": "be4fe178",
   "metadata": {},
   "outputs": [],
   "source": [
    "X_full = full_data_without_original_test.drop(columns=[\"count\", \"registered\", \"casual\", \"datetime\"])\n",
    "y_full = full_data_without_original_test['count']"
   ]
  },
  {
   "cell_type": "code",
   "execution_count": null,
   "id": "773b344f",
   "metadata": {},
   "outputs": [],
   "source": [
    "# Linear\n",
    "\n",
    "pipe_linear.fit(X_full, y_full)\n",
    "train_error = calculateRMSLE(pipe_linear.predict(X_full), y_full)\n",
    "test_error = calculateRMSLE(pipe_linear.predict(X_test), y_test)\n",
    "\n",
    "linear_FE_full_result = ['Feature engineered linear large n', train_error, test_error]\n",
    "results.loc[len(results)] = linear_FE_full_result\n",
    "results"
   ]
  },
  {
   "cell_type": "code",
   "execution_count": null,
   "id": "4fd82502",
   "metadata": {},
   "outputs": [],
   "source": [
    "# Lasso\n",
    "# TODO"
   ]
  },
  {
   "cell_type": "code",
   "execution_count": null,
   "id": "b8397383",
   "metadata": {},
   "outputs": [],
   "source": [
    "# Tree\n",
    "# TODO"
   ]
  },
  {
   "cell_type": "markdown",
   "id": "17426d91-d132-4ebc-bd84-d9ad8fa63cef",
   "metadata": {},
   "source": [
    "### Apply more flexible models"
   ]
  },
  {
   "cell_type": "code",
   "execution_count": null,
   "id": "87566529-fcd2-4341-9cad-3735a43be22f",
   "metadata": {},
   "outputs": [],
   "source": [
    "# live coding"
   ]
  },
  {
   "cell_type": "markdown",
   "id": "529f6867-242d-495d-b13c-cc3b1da2aa17",
   "metadata": {},
   "source": [
    "## Submit to Kaggle"
   ]
  },
  {
   "cell_type": "code",
   "execution_count": null,
   "id": "e490d045-0ad4-4bf3-845e-a603e2c1a65c",
   "metadata": {},
   "outputs": [],
   "source": [
    "# live coding"
   ]
  }
 ],
 "metadata": {
  "kernelspec": {
   "display_name": "Python 3 (ipykernel)",
   "language": "python",
   "name": "python3"
  },
  "language_info": {
   "codemirror_mode": {
    "name": "ipython",
    "version": 3
   },
   "file_extension": ".py",
   "mimetype": "text/x-python",
   "name": "python",
   "nbconvert_exporter": "python",
   "pygments_lexer": "ipython3",
   "version": "3.10.13"
  }
 },
 "nbformat": 4,
 "nbformat_minor": 5
}
