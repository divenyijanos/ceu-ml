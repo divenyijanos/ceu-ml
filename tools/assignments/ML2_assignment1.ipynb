{
 "cells": [
  {
   "cell_type": "markdown",
   "metadata": {},
   "source": [
    "\n",
    "# Assignment 1\n",
    "\n",
    "## General information\n",
    "\n",
    "You are required to submit two files to Moodle: an `.ipynb` file and the rendered `.pdf` file with your solutions. Do not zip them together so I will be able to annotate the `.pdf` directly.\n",
    "\n",
    "Please give short (2-3 sentences) interpretations / explanations to your answers, not only the program code and outputs. Be concise and focused (less could be more ;)).\n",
    "\n",
    "Grades will be distributed with the following rule: from the points you earn, you get 100% if you submit until the due date (`2024-03-22 20:00`), 50% within 24 hours past due date, and 0% after that.\n",
    "\n",
    "## Predict real estate value (20 points)\n",
    "\n",
    "In this exercise you will predict property prices in New Taipei City, Taiwan using [this dataset](https://archive.ics.uci.edu/ml/datasets/Real+estate+valuation+data+set).\n",
    "(I have uploaded the data to the repo for you with cleaned up variable names. You can find it in the `real_estate` folder, [here](https://github.com/divenyijanos/ceu-ml/tree/2023/data/real_estate).)\n",
    "Let's say you want to build a simple web app where potential buyers and sellers could rate their homes, and the provided `.csv` contains the data you have collected.\n",
    "\n",
    "Similarly to what we did in the class, let's just work with a 20% subsample of the original data first.\n",
    "Put aside 30% of that sample for the test set.\n",
    "(_Hint:_ Extend the snippet below.)"
   ]
  },
  {
   "cell_type": "code",
   "execution_count": null,
   "metadata": {},
   "outputs": [],
   "source": [
    "import pandas as pd\n",
    "import numpy as np\n",
    "from sklearn.model_selection import train_test_split\n",
    "\n",
    "prng = np.random.RandomState(20240311)\n",
    "\n",
    "real_estate_data = pd.read_csv(\"https://raw.githubusercontent.com/divenyijanos/ceu-ml/2023/data/real_estate/real_estate.csv\")\n",
    "real_estate_sample = real_estate_data.sample(frac=0.2)\n",
    "\n",
    "outcome = real_estate_sample[\"house_price_of_unit_area\"]\n",
    "features = #TODO\n",
    "X_train, X_test, y_train, y_test = train_test_split(features, outcome, test_size=0.3, random_state=prng)\n",
    "\n",
    "print(f\"Size of the training set: {#TODO}, size of the test set: {#TODO}\")"
   ]
  },
  {
   "cell_type": "markdown",
   "metadata": {},
   "source": [
    "- (2 points) Think about an appropriate loss function you can use to evaluate your predictive models.\n",
    "What is the risk (from a business perspective) that you would have to take by making a wrong prediction?\n",
    "\n",
    "- (2 points) Build a simple benchmark model and evaluate its performance on the hold-out set (using your chosen loss function).\n",
    "\n",
    "- (2 points) Build a simple linear regression model using a chosen feature and evaluate its performance.\n",
    "Would you launch your evaluator web app using this model?\n",
    "\n",
    "- (2 points) Build a multivariate linear model with all the meaningful variables available. Did it improve the predictive power?\n",
    "\n",
    "- (6 points) Try to make your model (even) better.\n",
    "Document your process and its success while taking two approaches:\n",
    "\n",
    "    1. Feature engineering - e.g. including squares and interactions or making sense of latitude&longitude by calculating the distance from the city center, etc.\n",
    "    2. Training more flexible models - e.g. random forest or gradient boosting\n",
    " \n",
    "\n",
    "\n",
    "- (2 points) Would you launch your web app now? What options you might have to further improve the prediction performance?\n",
    "\n",
    "- (4 points) Rerun three of your previous models (including both flexible and less flexible ones) on the full train set.\n",
    "Ensure that your test result remains comparable by keeping that dataset intact.\n",
    "(_Hint:_ extend the code snippet below.) Did it improve the predictive power of your models? Where do you observe the biggest improvement? Would you launch your web app now?"
   ]
  },
  {
   "cell_type": "code",
   "execution_count": null,
   "metadata": {},
   "outputs": [],
   "source": [
    "real_estate_full = real_estate_data.loc[~real_estate_data.index.isin(X_test.index)]\n",
    "print(f\"Size of the full training set: {#TODO}\")"
   ]
  }
 ],
 "metadata": {
  "kernelspec": {
   "display_name": "Python 3 (ipykernel)",
   "language": "python",
   "name": "python3"
  },
  "language_info": {
   "codemirror_mode": {
    "name": "ipython",
    "version": 3
   },
   "file_extension": ".py",
   "mimetype": "text/x-python",
   "name": "python",
   "nbconvert_exporter": "python",
   "pygments_lexer": "ipython3",
   "version": "3.10.13"
  }
 },
 "nbformat": 4,
 "nbformat_minor": 4
}
