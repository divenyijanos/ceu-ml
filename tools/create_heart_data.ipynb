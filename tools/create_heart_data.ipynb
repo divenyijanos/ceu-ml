{
 "cells": [
  {
   "cell_type": "code",
   "execution_count": 8,
   "id": "0e551e73-3eb8-4c9a-bc12-d87686c3c930",
   "metadata": {},
   "outputs": [
    {
     "data": {
      "text/plain": [
       "918"
      ]
     },
     "execution_count": 8,
     "metadata": {},
     "output_type": "execute_result"
    }
   ],
   "source": [
    "import pandas as pd\n",
    "import os\n",
    "\n",
    "current_dir = os.getcwd()\n",
    "\n",
    "heart_data = pd.read_csv(\"../data/heart_failure/heart.csv\")\n",
    "heart_data.shape[0]"
   ]
  },
  {
   "cell_type": "code",
   "execution_count": 9,
   "id": "09c467ad-e822-444c-a311-b3fa09689e52",
   "metadata": {},
   "outputs": [],
   "source": [
    "heart_holdout = heart_data.sample(frac=0.3)\n",
    "heart_train = heart_data.drop(heart_holdout.index)"
   ]
  },
  {
   "cell_type": "code",
   "execution_count": 10,
   "id": "cb61fca7-2d3b-4b0b-a417-bcaabfdd458a",
   "metadata": {},
   "outputs": [
    {
     "data": {
      "text/plain": [
       "(643, 275)"
      ]
     },
     "execution_count": 10,
     "metadata": {},
     "output_type": "execute_result"
    }
   ],
   "source": [
    "(heart_train.shape[0], heart_holdout.shape[0])"
   ]
  },
  {
   "cell_type": "code",
   "execution_count": 29,
   "id": "b5616b91-d151-4b9a-a82d-b895d7a18c12",
   "metadata": {},
   "outputs": [],
   "source": [
    "heart_train.to_csv(\"../data/heart_failure/heart_train.csv\", index=False)\n",
    "heart_holdout[\"id\"] = heart_holdout.reset_index(drop=True).index + 1\n",
    "heart_holdout.drop(columns=[\"HeartDisease\"]).to_csv(\"../data/heart_failure/heart_test.csv\", index=False)\n",
    "heart_holdout[[\"id\", \"HeartDisease\"]].to_csv(\"../data/heart_failure/solution.csv\", index=False)\n",
    "\n",
    "sample_solution = heart_holdout[[\"id\", \"HeartDisease\"]]\n",
    "sample_solution.loc[:, \"HeartDisease\"] = 0\n",
    "sample_solution.to_csv(\"../data/heart_failure/sample_submission.csv\", index=False)"
   ]
  },
  {
   "cell_type": "code",
   "execution_count": null,
   "id": "963a897a-8017-45e1-9743-5146c317ce1d",
   "metadata": {},
   "outputs": [],
   "source": []
  }
 ],
 "metadata": {
  "kernelspec": {
   "display_name": "Python 3 (ipykernel)",
   "language": "python",
   "name": "python3"
  },
  "language_info": {
   "codemirror_mode": {
    "name": "ipython",
    "version": 3
   },
   "file_extension": ".py",
   "mimetype": "text/x-python",
   "name": "python",
   "nbconvert_exporter": "python",
   "pygments_lexer": "ipython3",
   "version": "3.10.13"
  }
 },
 "nbformat": 4,
 "nbformat_minor": 5
}
